{
 "cells": [
  {
   "cell_type": "code",
   "execution_count": 1,
   "metadata": {},
   "outputs": [
    {
     "name": "stdout",
     "output_type": "stream",
     "text": [
      "29833\n"
     ]
    }
   ],
   "source": [
    "import xml.etree.ElementTree as ET\n",
    "import os\n",
    "import glob\n",
    "from random import sample\n",
    "aaa = 0\n",
    "bbb = 0\n",
    "\n",
    "val_files = glob.glob('/home/mallet/Desktop/val/*.xml')\n",
    "filcounter = 0\n",
    "for file in val_files:\n",
    "    root = ET.parse(file).getroot()\n",
    "    bnbxcntr = 0\n",
    "    imwidth = int(root[3][0].text)\n",
    "    imheight = int(root[3][1].text)\n",
    "    xmin = int(root[5][4][0].text)\n",
    "    ymin = int(root[5][4][1].text)\n",
    "    xmax = int(root[5][4][2].text)\n",
    "    ymax = int(root[5][4][3].text)\n",
    "    aimg = imwidth*imheight\n",
    "    abb = (xmax-xmin)*(ymax-ymin)\n",
    "    for bnd in root.findall('./object/bndbox'):\n",
    "        bnbxcntr+=1\n",
    "    if bnbxcntr>1 or (aimg<2*abb):\n",
    "        os.remove(file)\n",
    "        filcounter+=1\n",
    "print(filcounter)"
   ]
  },
  {
   "cell_type": "code",
   "execution_count": 2,
   "metadata": {},
   "outputs": [],
   "source": [
    "import numpy as np\n",
    "alexnet_intersect_img_idx = np.load('/home/mallet/Desktop/shapebias/data/intersection_alexnet_alexnet-r.npy')"
   ]
  },
  {
   "cell_type": "code",
   "execution_count": 3,
   "metadata": {},
   "outputs": [
    {
     "name": "stdout",
     "output_type": "stream",
     "text": [
      "13627\n"
     ]
    }
   ],
   "source": [
    "aa =0\n",
    "val_files = glob.glob('/home/mallet/Desktop/val/*.xml')\n",
    "for file in val_files:\n",
    "    d = file.split('/')[-1].split('.')[0]+'.JPEG'\n",
    "    if not(d in alexnet_intersect_img_idx):\n",
    "        os.remove(file)\n",
    "        aa+=1\n",
    "print(aa)"
   ]
  },
  {
   "cell_type": "code",
   "execution_count": 4,
   "metadata": {},
   "outputs": [
    {
     "name": "stdout",
     "output_type": "stream",
     "text": [
      "<class 'list'>\n",
      "6540 43460\n"
     ]
    }
   ],
   "source": [
    "\n",
    "flss = os.listdir('/home/mallet/Desktop/valid/')\n",
    "bbfiles = glob.glob('/home/mallet/Desktop/val/*.xml')\n",
    "print(type(bbfiles))\n",
    "for fls in flss:\n",
    "    files = os.listdir('/home/mallet/Desktop/valid/'+fls)\n",
    "    for file in files:\n",
    "        d = '/home/mallet/Desktop/val/' + file.split(\".\")[0] + '.xml'\n",
    "        if d in bbfiles:\n",
    "            aaa+=1\n",
    "        else:\n",
    "            os.remove('/home/mallet/Desktop/valid/'+fls+'/'+file)\n",
    "            bbb+=1\n",
    "print(aaa, bbb)"
   ]
  },
  {
   "cell_type": "code",
   "execution_count": 5,
   "metadata": {},
   "outputs": [
    {
     "name": "stdout",
     "output_type": "stream",
     "text": [
      "=> loading checkpoint '/home/mallet/Downloads/AlexNet-R.pt'\n",
      "=> loaded checkpoint '/home/mallet/Downloads/AlexNet-R.pt' (epoch 90)\n"
     ]
    }
   ],
   "source": [
    "import alx\n",
    "import torchvision.transforms as transforms\n",
    "import torchray.benchmark\n",
    "import torch\n",
    "\n",
    "model = alx.alexr()\n",
    "model.eval()\n",
    "\n",
    "# Transforms needs to be applied to our data set\n",
    "val_transforms = transforms.Compose([transforms.Resize((224,224)),transforms.ToTensor()])  \n",
    "# 2000 images randomly taken from Imagenet(ILSVRC2012) validation set\n",
    "vall = torchray.benchmark.datasets.ImageFolder('/home/mallet/Desktop/valid',transform = val_transforms)"
   ]
  },
  {
   "cell_type": "code",
   "execution_count": 6,
   "metadata": {},
   "outputs": [
    {
     "name": "stdout",
     "output_type": "stream",
     "text": [
      "1587\n"
     ]
    }
   ],
   "source": [
    "lss =[]\n",
    "al = 0\n",
    "nimg = vall.selection\n",
    "for i in nimg:\n",
    "    img, labele = vall[i]\n",
    "    x = img.unsqueeze(0)\n",
    "    x = x.cuda()\n",
    "    outputs= model(x)\n",
    "\n",
    "    # the class with the highest energy is what we choose as prediction\n",
    "    _, predicted = torch.max(outputs.data, 1)   \n",
    "    if not(predicted == labele):\n",
    "        esm = vall.get_image_url(i)\n",
    "        os.remove(esm)\n",
    "        os.remove('/home/mallet/Desktop/val/'+esm.split(\"/\")[-1].split(\".\")[0] + '.xml')\n",
    "        al+=1\n",
    "print(al)"
   ]
  },
  {
   "cell_type": "code",
   "execution_count": 1,
   "metadata": {},
   "outputs": [
    {
     "name": "stdout",
     "output_type": "stream",
     "text": [
      "=> loading checkpoint '/home/mallet/Downloads/AlexNet-R.pt'\n",
      "=> loaded checkpoint '/home/mallet/Downloads/AlexNet-R.pt' (epoch 90)\n",
      "0\n"
     ]
    }
   ],
   "source": [
    "import alx\n",
    "import torchvision.transforms as transforms\n",
    "import torchray.benchmark\n",
    "import torch\n",
    "\n",
    "model = alx.alexr()\n",
    "model.eval()\n",
    "\n",
    "# Transforms needs to be applied to our data set\n",
    "val_transforms = transforms.Compose([transforms.Resize((224,224)),transforms.ToTensor()])  \n",
    "# 2000 images randomly taken from Imagenet(ILSVRC2012) validation set\n",
    "vall = torchray.benchmark.datasets.ImageFolder('/home/mallet/Desktop/Dataa/alx/valid',transform = val_transforms)\n",
    "\n",
    "lss =[]\n",
    "al = 0\n",
    "nimg = vall.selection\n",
    "for i in nimg:\n",
    "    img, labele = vall[i]\n",
    "    x = img.unsqueeze(0)\n",
    "    x = x.cuda()\n",
    "    outputs= model(x)\n",
    "\n",
    "    # the class with the highest energy is what we choose as prediction\n",
    "    _, predicted = torch.max(outputs.data, 1)   \n",
    "    if not(predicted == labele):\n",
    "        print('what happened!')\n",
    "print(al)"
   ]
  },
  {
   "cell_type": "code",
   "execution_count": 14,
   "metadata": {},
   "outputs": [
    {
     "name": "stdout",
     "output_type": "stream",
     "text": [
      "torch.Size([1, 1000])\n"
     ]
    }
   ],
   "source": [
    "img, labele = vall[6539]\n",
    "x = img.unsqueeze(0)\n",
    "x = x.cuda()\n",
    "outputs= model(x)\n",
    "print(outputs.shape)"
   ]
  },
  {
   "cell_type": "code",
   "execution_count": 15,
   "metadata": {},
   "outputs": [
    {
     "data": {
      "text/plain": [
       "torch.return_types.max(\n",
       "values=tensor([9.4064], device='cuda:0'),\n",
       "indices=tensor([999], device='cuda:0'))"
      ]
     },
     "execution_count": 15,
     "metadata": {},
     "output_type": "execute_result"
    }
   ],
   "source": [
    "torch.max(outputs.data, 1)  \n"
   ]
  },
  {
   "cell_type": "code",
   "execution_count": 17,
   "metadata": {},
   "outputs": [
    {
     "data": {
      "text/plain": [
       "'/home/mallet/Desktop/valid/n01443537/ILSVRC2012_val_00002848.JPEG'"
      ]
     },
     "execution_count": 17,
     "metadata": {},
     "output_type": "execute_result"
    }
   ],
   "source": [
    "vall.get_image_url(30)"
   ]
  },
  {
   "cell_type": "code",
   "execution_count": 18,
   "metadata": {},
   "outputs": [
    {
     "data": {
      "text/plain": [
       "'ILSVRC2012_val_00002848'"
      ]
     },
     "execution_count": 18,
     "metadata": {},
     "output_type": "execute_result"
    }
   ],
   "source": [
    "vall.get_image_url(30).split(\"/\")[-1].split(\".\")[0]"
   ]
  },
  {
   "cell_type": "code",
   "execution_count": 6,
   "metadata": {},
   "outputs": [
    {
     "name": "stdout",
     "output_type": "stream",
     "text": [
      "37\n"
     ]
    }
   ],
   "source": [
    "import os\n",
    "import glob\n",
    "from random import sample\n",
    "jj=0\n",
    "asa = 0\n",
    "flss = os.listdir('/home/mallet/Desktop/valid/')\n",
    "for fls in flss:\n",
    "    files = os.listdir('/home/mallet/Desktop/valid/'+fls)\n",
    "    if len(files)>2 and jj<37:\n",
    "        \n",
    "        for file in sample(files,1):\n",
    "            #d = '/home/mallet/Downloads/val/' + file.split(\".\")[0] + '.xml'\n",
    "            os.remove('/home/mallet/Desktop/valid/'+fls+'/'+file)\n",
    "            os.remove('/home/mallet/Desktop/val/'+file.split(\".\")[0] + '.xml')\n",
    "            asa+=1  \n",
    "            jj+=1\n",
    "print(asa)"
   ]
  },
  {
   "cell_type": "code",
   "execution_count": null,
   "metadata": {},
   "outputs": [],
   "source": []
  }
 ],
 "metadata": {
  "kernelspec": {
   "display_name": "Python 3",
   "language": "python",
   "name": "python3"
  },
  "language_info": {
   "codemirror_mode": {
    "name": "ipython",
    "version": 3
   },
   "file_extension": ".py",
   "mimetype": "text/x-python",
   "name": "python",
   "nbconvert_exporter": "python",
   "pygments_lexer": "ipython3",
   "version": "3.7.6"
  }
 },
 "nbformat": 4,
 "nbformat_minor": 2
}
