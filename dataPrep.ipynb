{
 "cells": [
  {
   "cell_type": "code",
   "execution_count": 58,
   "metadata": {},
   "outputs": [
    {
     "data": {
      "text/plain": [
       "'\\n# In this chunk of code I simply remove xml files that have more than 1 bounding boxes or bounding boxes cover\\n# more than 50% of image size!\\n# This \\'/home/mallet/Downloads/val/*.xml\\' path is \\n# referring to bounding boxes for all 50k images of validation set in image net. \\n# 29833 images out of this 50k has more than 1 bounding boxes or cover more than 50% of image size!\\n\\nval_files = glob.glob(\\'/home/mallet/Downloads/val/*.xml\\')\\nfilcounter = 0\\nfor file in val_files:\\n    root = ET.parse(file).getroot()\\n    bnbxcntr = 0\\n    imwidth = int(root[3][0].text)\\n    imheight = int(root[3][1].text)\\n    xmin = int(root[5][4][0].text)\\n    ymin = int(root[5][4][1].text)\\n    xmax = int(root[5][4][2].text)\\n    ymax = int(root[5][4][3].text)\\n    aimg = imwidth*imheight\\n    abb = (xmax-xmin)*(ymax-ymin)\\n    for bnd in root.findall(\\'./object/bndbox\\'):\\n        bnbxcntr+=1\\n    if bnbxcntr>1 or (aimg<2*abb):\\n        os.remove(file)\\n        filcounter+=1\\nprint(filcounter)\\n\\n####################################################################################################\\n\\n# In this chunck, I am removing those 29833 images from imageset as well,\\n# since I removed their BB in last section. This \\'/home/mallet/Desktop/VanillaVsARobust/valid/\\' refers\\n# to all 50k images of validation set that I want to remove 29833 of them. \\n# And this \\'/home/mallet/Downloads/val/*.xml\\' is simply those xml files that I obtained in previous section\\n# after removing those 29833!\\n\\nflss = os.listdir(\\'/home/mallet/Desktop/VanillaVsARobust/valid/\\')\\nbbfiles = glob.glob(\\'/home/mallet/Downloads/val/*.xml\\')\\nprint(type(bbfiles))\\nfor fls in flss:\\n    files = os.listdir(\\'/home/mallet/Desktop/VanillaVsARobust/valid/\\'+fls)\\n    for file in files:\\n        d = \\'/home/mallet/Downloads/val/\\' + file.split(\".\")[0] + \\'.xml\\'\\n        if d in bbfiles:\\n            aaa+=1\\n        else:\\n            os.remove(\\'/home/mallet/Desktop/VanillaVsARobust/valid/\\'+fls+\\'/\\'+file)\\n            bbb+=1\\nprint(aaa, bbb)\\n####################################################################################################\\n\\n# After previous 2 steps, now I have 2 set of 20167 in both Jpeg and xml. now I randomly keep 2 or 3 images\\n# (because some classes had 1 or some had 0 images after satisfying those two condition in first section)\\n# from each category/class which will result in having 2000 images and removing 18167 images.\\n# In order to reach to 2000 samples, I randomly sampled 2 from each class. and for those classes that had less\\n# than 2 samples. I kept some classes to 3 samples to make up for those. So it is like 982 class with 2 samples,\\n# 11 class with 3 samples and unfortunately 4 classes have no sample:(\\n\\njj=0\\nasa = 0\\nflss = os.listdir(\\'/home/mallet/Desktop/VanillaVsARobust/valid/\\')\\nfor fls in flss:\\n    files = os.listdir(\\'/home/mallet/Desktop/VanillaVsARobust/valid/\\'+fls)\\n    if len(files)==3 and jj<977:\\n        print(\\'2samples not possible\\', fls)\\n\\n\\n        for file in sample(files,1):\\n            #d = \\'/home/mallet/Downloads/val/\\' + file.split(\".\")[0] + \\'.xml\\'\\n            os.remove(\\'/home/mallet/Desktop/VanillaVsARobust/valid/\\'+fls+\\'/\\'+file)\\n            os.remove(\\'/home/mallet/Desktop/VanillaVsARobust/bb/\\'+file.split(\".\")[0] + \\'.xml\\')\\n            asa+=1  \\n            jj+=1\\nprint(asa)\\n'"
      ]
     },
     "execution_count": 58,
     "metadata": {},
     "output_type": "execute_result"
    }
   ],
   "source": [
    "#getting 2000 samples randomly from validation set and their corresponding bounding boxes, \n",
    "# Sorry for absolute pathes:))\n",
    "\n",
    "import xml.etree.ElementTree as ET\n",
    "import os\n",
    "import glob\n",
    "from random import sample\n",
    "aaa = 0\n",
    "bbb = 0\n",
    "####################################################################################################\n",
    "'''\n",
    "# In this chunk of code I simply remove xml files that have more than 1 bounding boxes or bounding boxes cover\n",
    "# more than 50% of image size!\n",
    "# This '/home/mallet/Downloads/val/*.xml' path is \n",
    "# referring to bounding boxes for all 50k images of validation set in image net. \n",
    "# 29833 images out of this 50k has more than 1 bounding boxes or cover more than 50% of image size!\n",
    "\n",
    "val_files = glob.glob('/home/mallet/Downloads/val/*.xml')\n",
    "filcounter = 0\n",
    "for file in val_files:\n",
    "    root = ET.parse(file).getroot()\n",
    "    bnbxcntr = 0\n",
    "    imwidth = int(root[3][0].text)\n",
    "    imheight = int(root[3][1].text)\n",
    "    xmin = int(root[5][4][0].text)\n",
    "    ymin = int(root[5][4][1].text)\n",
    "    xmax = int(root[5][4][2].text)\n",
    "    ymax = int(root[5][4][3].text)\n",
    "    aimg = imwidth*imheight\n",
    "    abb = (xmax-xmin)*(ymax-ymin)\n",
    "    for bnd in root.findall('./object/bndbox'):\n",
    "        bnbxcntr+=1\n",
    "    if bnbxcntr>1 or (aimg<2*abb):\n",
    "        os.remove(file)\n",
    "        filcounter+=1\n",
    "print(filcounter)\n",
    "\n",
    "####################################################################################################\n",
    "\n",
    "# In this chunck, I am removing those 29833 images from imageset as well,\n",
    "# since I removed their BB in last section. This '/home/mallet/Desktop/VanillaVsARobust/valid/' refers\n",
    "# to all 50k images of validation set that I want to remove 29833 of them. \n",
    "# And this '/home/mallet/Downloads/val/*.xml' is simply those xml files that I obtained in previous section\n",
    "# after removing those 29833!\n",
    "\n",
    "flss = os.listdir('/home/mallet/Desktop/VanillaVsARobust/valid/')\n",
    "bbfiles = glob.glob('/home/mallet/Downloads/val/*.xml')\n",
    "print(type(bbfiles))\n",
    "for fls in flss:\n",
    "    files = os.listdir('/home/mallet/Desktop/VanillaVsARobust/valid/'+fls)\n",
    "    for file in files:\n",
    "        d = '/home/mallet/Downloads/val/' + file.split(\".\")[0] + '.xml'\n",
    "        if d in bbfiles:\n",
    "            aaa+=1\n",
    "        else:\n",
    "            os.remove('/home/mallet/Desktop/VanillaVsARobust/valid/'+fls+'/'+file)\n",
    "            bbb+=1\n",
    "print(aaa, bbb)\n",
    "####################################################################################################\n",
    "\n",
    "# After previous 2 steps, now I have 2 set of 20167 in both Jpeg and xml. now I randomly keep 2 or 3 images\n",
    "# (because some classes had 1 or some had 0 images after satisfying those two condition in first section)\n",
    "# from each category/class which will result in having 2000 images and removing 18167 images.\n",
    "# In order to reach to 2000 samples, I randomly sampled 2 from each class. and for those classes that had less\n",
    "# than 2 samples. I kept some classes to 3 samples to make up for those. So it is like 982 class with 2 samples,\n",
    "# 11 class with 3 samples and unfortunately 4 classes have no sample:(\n",
    "\n",
    "jj=0\n",
    "asa = 0\n",
    "flss = os.listdir('/home/mallet/Desktop/VanillaVsARobust/valid/')\n",
    "for fls in flss:\n",
    "    files = os.listdir('/home/mallet/Desktop/VanillaVsARobust/valid/'+fls)\n",
    "    if len(files)==3 and jj<977:\n",
    "        print('2samples not possible', fls)\n",
    "\n",
    "\n",
    "        for file in sample(files,1):\n",
    "            #d = '/home/mallet/Downloads/val/' + file.split(\".\")[0] + '.xml'\n",
    "            os.remove('/home/mallet/Desktop/VanillaVsARobust/valid/'+fls+'/'+file)\n",
    "            os.remove('/home/mallet/Desktop/VanillaVsARobust/bb/'+file.split(\".\")[0] + '.xml')\n",
    "            asa+=1  \n",
    "            jj+=1\n",
    "print(asa)\n",
    "'''"
   ]
  },
  {
   "cell_type": "code",
   "execution_count": 39,
   "metadata": {},
   "outputs": [],
   "source": [
    "import torchvision.transforms as transforms\n",
    "import torchray.benchmark\n",
    "# Transforms \n",
    "val_transforms = transforms.Compose([transforms.Resize(256),transforms.CenterCrop(224), \n",
    "    transforms.ToTensor(), transforms.Normalize(mean=[0.485, 0.456, 0.406],std=[0.229, 0.224, 0.225])])    \n",
    "\n",
    "# Loading images and their labels \n",
    "vall = torchray.benchmark.datasets.ImageFolder('/home/mallet/Desktop/VanillaVsARobust/validationSample',\n",
    "                                               transform = val_transforms)\n",
    "\n",
    "##################################################################################################\n",
    "# since I saved every image in their category label with the code of \"n0...\", when Using ImageFolder,\n",
    "# They will get loaded correctly based on 0...999 category that starts with tench and ends with toilet paper!\n",
    "# in below we see example of Image ILSVRC2012_val_00039476.JPEG which is a cat playing with toilet paper which\n",
    "# which is in toilet paper class id 999!\n",
    "# Note: have to remove normalization in val_transforms to get a clear image."
   ]
  },
  {
   "cell_type": "code",
   "execution_count": 40,
   "metadata": {},
   "outputs": [
    {
     "name": "stdout",
     "output_type": "stream",
     "text": [
      "/home/mallet/Desktop/VanillaVsARobust/validationSample/n15075141/ILSVRC2012_val_00039476.JPEG\n",
      "(tensor([[[ 0.2967,  0.3138,  0.3138,  ...,  1.1358,  1.1529,  1.1529],\n",
      "         [ 0.3138,  0.2967,  0.3138,  ...,  1.2043,  1.2043,  1.1700],\n",
      "         [ 0.3309,  0.3309,  0.3994,  ...,  1.1358,  1.1529,  1.1358],\n",
      "         ...,\n",
      "         [-0.5253, -0.4739, -0.4739,  ...,  1.2385,  1.1872,  1.1358],\n",
      "         [-0.4226, -0.4226, -0.4739,  ...,  1.1872,  1.1358,  1.1015],\n",
      "         [-0.5424, -0.4911, -0.5082,  ...,  1.0844,  1.0673,  1.0844]],\n",
      "\n",
      "        [[ 0.1702,  0.1877,  0.1352,  ...,  0.9755,  0.9755,  0.9405],\n",
      "         [ 0.1527,  0.1877,  0.2052,  ...,  0.8880,  0.8704,  0.8704],\n",
      "         [ 0.1877,  0.2052,  0.2402,  ...,  0.8880,  0.8704,  0.8880],\n",
      "         ...,\n",
      "         [-0.6001, -0.6527, -0.7052,  ...,  0.8880,  0.8704,  0.8179],\n",
      "         [-0.7227, -0.7402, -0.6877,  ...,  0.8179,  0.8004,  0.7654],\n",
      "         [-0.6702, -0.6877, -0.6527,  ...,  0.8179,  0.8004,  0.7479]],\n",
      "\n",
      "        [[-0.6890, -0.7064, -0.8458,  ...,  0.3393,  0.3045,  0.3393],\n",
      "         [-0.7064, -0.6890, -0.5670,  ...,  0.2522,  0.2348,  0.2348],\n",
      "         [-0.6890, -0.6890, -0.7413,  ...,  0.1128,  0.1302,  0.1999],\n",
      "         ...,\n",
      "         [-1.3339, -1.2467, -1.2293,  ...,  0.5659,  0.5659,  0.4439],\n",
      "         [-1.2990, -1.2641, -1.1770,  ...,  0.5311,  0.4614,  0.5834],\n",
      "         [-1.2119, -1.2119, -1.0724,  ...,  0.3916,  0.5136,  0.4091]]]), 999)\n"
     ]
    }
   ],
   "source": [
    "print(vall.get_image_url(1998))\n",
    "print(vall[1998])"
   ]
  },
  {
   "cell_type": "code",
   "execution_count": 1,
   "metadata": {},
   "outputs": [
    {
     "ename": "NameError",
     "evalue": "name 'vall' is not defined",
     "output_type": "error",
     "traceback": [
      "\u001b[0;31m---------------------------------------------------------------------------\u001b[0m",
      "\u001b[0;31mNameError\u001b[0m                                 Traceback (most recent call last)",
      "\u001b[0;32m<ipython-input-1-281e005dbc90>\u001b[0m in \u001b[0;36m<module>\u001b[0;34m\u001b[0m\n\u001b[1;32m      1\u001b[0m \u001b[0;32mfrom\u001b[0m \u001b[0mmatplotlib\u001b[0m \u001b[0;32mimport\u001b[0m \u001b[0mpyplot\u001b[0m \u001b[0;32mas\u001b[0m \u001b[0mplt\u001b[0m\u001b[0;34m\u001b[0m\u001b[0;34m\u001b[0m\u001b[0m\n\u001b[0;32m----> 2\u001b[0;31m \u001b[0mplt\u001b[0m\u001b[0;34m.\u001b[0m\u001b[0mimshow\u001b[0m\u001b[0;34m(\u001b[0m  \u001b[0mvall\u001b[0m\u001b[0;34m[\u001b[0m\u001b[0;36m1998\u001b[0m\u001b[0;34m]\u001b[0m\u001b[0;34m[\u001b[0m\u001b[0;36m0\u001b[0m\u001b[0;34m]\u001b[0m\u001b[0;34m.\u001b[0m\u001b[0mpermute\u001b[0m\u001b[0;34m(\u001b[0m\u001b[0;36m1\u001b[0m\u001b[0;34m,\u001b[0m \u001b[0;36m2\u001b[0m\u001b[0;34m,\u001b[0m \u001b[0;36m0\u001b[0m\u001b[0;34m)\u001b[0m  \u001b[0;34m)\u001b[0m\u001b[0;34m\u001b[0m\u001b[0;34m\u001b[0m\u001b[0m\n\u001b[0m\u001b[1;32m      3\u001b[0m \u001b[0mplt\u001b[0m\u001b[0;34m.\u001b[0m\u001b[0mshow\u001b[0m\u001b[0;34m(\u001b[0m\u001b[0;34m)\u001b[0m\u001b[0;34m\u001b[0m\u001b[0;34m\u001b[0m\u001b[0m\n",
      "\u001b[0;31mNameError\u001b[0m: name 'vall' is not defined"
     ]
    }
   ],
   "source": [
    "from matplotlib import pyplot as plt\n",
    "plt.imshow(  vall[1998][0].permute(1, 2, 0)  )\n",
    "plt.show()"
   ]
  },
  {
   "cell_type": "code",
   "execution_count": null,
   "metadata": {},
   "outputs": [],
   "source": []
  }
 ],
 "metadata": {
  "kernelspec": {
   "display_name": "Python 3",
   "language": "python",
   "name": "python3"
  },
  "language_info": {
   "codemirror_mode": {
    "name": "ipython",
    "version": 3
   },
   "file_extension": ".py",
   "mimetype": "text/x-python",
   "name": "python",
   "nbconvert_exporter": "python",
   "pygments_lexer": "ipython3",
   "version": "3.7.6"
  }
 },
 "nbformat": 4,
 "nbformat_minor": 4
}
