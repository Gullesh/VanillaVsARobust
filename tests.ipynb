{
 "cells": [
  {
   "cell_type": "code",
   "execution_count": 1,
   "metadata": {},
   "outputs": [],
   "source": [
    "#loading packages\n",
    "\n",
    "import torch\n",
    "from torch.autograd import Variable\n",
    "from torchvision import models\n",
    "import cv2\n",
    "import sys\n",
    "import numpy as np\n",
    "import torchvision.transforms as transforms\n",
    "import torchvision.datasets as datasets\n",
    "import glob\n",
    "use_cuda = torch.cuda.is_available()"
   ]
  },
  {
   "cell_type": "code",
   "execution_count": null,
   "metadata": {},
   "outputs": [],
   "source": [
    "#getting 2000 samples randomly from validation set and their corresponding bounding boxes, \n",
    "# Sorry for absolute pathes:))\n",
    "'''\n",
    "import xml.etree.ElementTree as ET\n",
    "import os\n",
    "import glob\n",
    "from random import sample\n",
    "aaa = 0\n",
    "bbb = 0\n",
    "####################################################################################################\n",
    "\n",
    "# In this chunk of code I simply remove xml files that have more than 1 bounding boxes!\n",
    "# This '/home/mallet/Downloads/val/*.xml' path is \n",
    "# referring to bounding boxes for all 50k images of validation set in image net. \n",
    "# 11715 images out of this 50k has more than 1 bounding boxes.\n",
    "\n",
    "val_files = glob.glob('/home/mallet/Downloads/val/*.xml')\n",
    "filcounter = 0\n",
    "for file in val_files:\n",
    "    root = ET.parse(file).getroot()\n",
    "    bnbxcntr = 0\n",
    "    for bnd in root.findall('./object/bndbox'):\n",
    "        bnbxcntr+=1\n",
    "    if bnbxcntr>1:\n",
    "        os.remove(file)\n",
    "        filcounter+=1\n",
    "print(filcounter)\n",
    "\n",
    "####################################################################################################\n",
    "\n",
    "# In this chunck, I am removing those 11715 images from imageset as well,\n",
    "# since I removed their BB in last section. This '/home/mallet/Desktop/VanillaVsARobust/valid/' refers\n",
    "# to all 50k images of validation set that I want to remove 11715 of them. \n",
    "# And this '/home/mallet/Downloads/val/*.xml' is simply those xml files that I obtained in previous section\n",
    "# after removing those 11715!\n",
    "\n",
    "flss = os.listdir('/home/mallet/Desktop/VanillaVsARobust/valid/')\n",
    "bbfiles = glob.glob('/home/mallet/Downloads/val/*.xml')\n",
    "print(type(bbfiles))\n",
    "for fls in flss:\n",
    "    files = os.listdir('/home/mallet/Desktop/VanillaVsARobust/valid/'+fls)\n",
    "    for file in files:\n",
    "        d = '/home/mallet/Downloads/val/' + file.split(\".\")[0] + '.xml'\n",
    "        if d in bbfiles:\n",
    "            aaa+=1\n",
    "        else:\n",
    "            os.remove('/home/mallet/Desktop/VanillaVsARobust/valid/'+fls+'/'+file)\n",
    "            bbb+=1\n",
    "print(aaa, bbb)\n",
    "####################################################################################################\n",
    "\n",
    "# After previous 2 steps, now I have 2 set of 38285 in both Jpeg and xml. now I randomly keep 2 images from\n",
    "# each category/class which will result in having 2000 images and removing 36285 images.\n",
    "\n",
    "asa = 0\n",
    "flss = os.listdir('/home/mallet/Desktop/VanillaVsARobust/valid/')\n",
    "bbfiles = glob.glob('/home/mallet/Downloads/val/*.xml')\n",
    "for fls in flss:\n",
    "    files = os.listdir('/home/mallet/Desktop/VanillaVsARobust/valid/'+fls)\n",
    "    for file in sample(files,len(files)-2):\n",
    "        #d = '/home/mallet/Downloads/val/' + file.split(\".\")[0] + '.xml'\n",
    "        os.remove('/home/mallet/Desktop/VanillaVsARobust/valid/'+fls+'/'+file)\n",
    "        os.remove('/home/mallet/Desktop/VanillaVsARobust/bb/'+file.split(\".\")[0] + '.xml')\n",
    "        asa+=1   \n",
    "print(asa)\n",
    "'''"
   ]
  },
  {
   "cell_type": "code",
   "execution_count": 12,
   "metadata": {},
   "outputs": [
    {
     "name": "stdout",
     "output_type": "stream",
     "text": [
      "36285\n"
     ]
    }
   ],
   "source": []
  },
  {
   "cell_type": "code",
   "execution_count": 74,
   "metadata": {},
   "outputs": [],
   "source": [
    "#preparing data set\n",
    "\n",
    "def normalize_transform():\n",
    "    return transforms.Normalize(mean=[0.485, 0.456, 0.406],\n",
    "                                     std=[0.229, 0.224, 0.225])\n",
    "\n",
    "    \n",
    "val_transforms = transforms.Compose([transforms.ToTensor(),normalize_transform()])    \n",
    "val_dataset = datasets.ImageFolder('/home/mallet/Desktop/VanillaVsARobust/validationSample/',transform = val_transforms)"
   ]
  },
  {
   "cell_type": "code",
   "execution_count": 84,
   "metadata": {},
   "outputs": [],
   "source": [
    "val_class = []\n",
    " \n",
    "with open('/home/mallet/Desktop/VanillaVsARobust/ILSVRC2012_validation_ground_truth.txt') as val_file:\n",
    "    rows = val_file.readlines()\n",
    "    for row in rows:\n",
    "        row = int(row.strip())\n",
    "        val_class.append(row)"
   ]
  },
  {
   "cell_type": "code",
   "execution_count": 85,
   "metadata": {},
   "outputs": [],
   "source": [
    "val_files = glob.glob('val/*.JPEG')\n",
    "for file in val_files:\n",
    "    seq_num = int(file.split(\"_\")[-1].split(\".\")[0])\n",
    "    class_id = val_class[seq_num - 1]\n",
    "    cid = class_id - 1\n",
    "    id = f\"{cid:03}\"\n",
    "    if not os.path.isdir('validationSample/' + id):\n",
    "        os.mkdir('validationSample/' + id)\n",
    " \n",
    "    os.rename(file, 'validationSample/' + id + \"/\"+file.split(\"/\")[-1])"
   ]
  },
  {
   "cell_type": "code",
   "execution_count": 92,
   "metadata": {},
   "outputs": [
    {
     "name": "stdout",
     "output_type": "stream",
     "text": [
      "tensor([[-0.8662,  0.3392,  0.0285, -0.4382,  2.9259,  0.6567],\n",
      "        [ 0.7548,  1.2167,  0.8650,  0.4994,  0.7251, -0.5246],\n",
      "        [-1.1198, -0.9046,  0.1769,  0.7497, -0.7918, -0.3651],\n",
      "        [-1.1663, -0.4158,  3.6088,  0.5614, -1.8190,  1.1314]])\n"
     ]
    },
    {
     "data": {
      "text/plain": [
       "tensor(20)"
      ]
     },
     "execution_count": 92,
     "metadata": {},
     "output_type": "execute_result"
    }
   ],
   "source": [
    "a = torch.randn(4, 6)\n",
    "print(a)\n",
    "b = torch.argmax(a)\n",
    "x, y = a.shape\n",
    "xloc = b//y\n",
    "yloc = b%6"
   ]
  },
  {
   "cell_type": "code",
   "execution_count": 103,
   "metadata": {},
   "outputs": [
    {
     "name": "stdout",
     "output_type": "stream",
     "text": [
      "1 2\n"
     ]
    }
   ],
   "source": [
    "a = np.array([[0.54,0.2,.33],[0.34,0.43,0.98]])\n",
    "i,j = np.unravel_index(a.argmax(), a.shape)\n",
    "a[i,j]\n",
    "print(i, j)"
   ]
  },
  {
   "cell_type": "code",
   "execution_count": 27,
   "metadata": {},
   "outputs": [
    {
     "name": "stdout",
     "output_type": "stream",
     "text": [
      "My Attacker is True\n",
      "Loading the robust ResNet-50 architectre\n",
      "=> loading checkpoint './models/ResNet50_R.pt'\n",
      "=> loaded checkpoint './models/ResNet50_R.pt' (epoch 105)\n",
      "0.732\n"
     ]
    }
   ],
   "source": [
    "import torchray\n",
    "import numpy as np\n",
    "import xml.etree.ElementTree as ET\n",
    "import cv2\n",
    "import time\n",
    "import torch\n",
    "from torch.autograd import Variable\n",
    "from torchvision import models\n",
    "import sys\n",
    "from numpy import savetxt\n",
    "import torchvision.transforms as transforms\n",
    "import torchvision.datasets as datasets\n",
    "import glob\n",
    "import torchray.benchmark\n",
    "from torchray.attribution.gradient import gradient\n",
    "from matplotlib import pyplot as plt\n",
    "import torchray.benchmark.pointing_game\n",
    "import miscel\n",
    "import loadmodel as lm\n",
    "\n",
    "use_cuda = torch.cuda.is_available()\n",
    "\n",
    "val_transforms = transforms.Compose([transforms.Resize(256),transforms.CenterCrop(224), transforms.ToTensor(),\n",
    "                                     transforms.Normalize(mean=[0.485, 0.456, 0.406],std=[0.229, 0.224, 0.225])])    \n",
    "\n",
    "vall = torchray.benchmark.datasets.ImageFolder('/home/mallet/Desktop/VanillaVsARobust/validationSample',transform = val_transforms)\n",
    "\n",
    "ttotal = 0\n",
    "pgtot = 0\n",
    "l = []\n",
    "model = lm.loadResnetR()\n",
    "for i in range(2000):\n",
    "    img, labele = vall[i]\n",
    "    bbname = vall.get_image_url(i).split(\"/\")[-1].split(\".\")[0]\n",
    "    imwidth, imheight, xmin, ymin, xmax, ymax = miscel.bbinfo(bbname)\n",
    "    x = img.unsqueeze(0)\n",
    "    x = x.cuda()\n",
    "    start = time.time()\n",
    "    saliency = gradient(model, x, labele)\n",
    "    end = time.time()\n",
    "    tm = end - start\n",
    "    l.append(tm)\n",
    "    xloc,yloc = miscel.findloc(saliency, imwidth, imheight)\n",
    "    Y = miscel.gtbb(imwidth, imheight, xmin, ymin, xmax, ymax)\n",
    "    test = torchray.benchmark.pointing_game.PointingGame(1000, tolerance=15)\n",
    "    pg = test.evaluate(Y, (yloc,xloc))\n",
    "    if pg==1:\n",
    "        pgtot+=1\n",
    "l = np.asarray(l)     \n",
    "print(pgtot/2000)"
   ]
  },
  {
   "cell_type": "code",
   "execution_count": 34,
   "metadata": {},
   "outputs": [],
   "source": [
    "from numpy import savetxt\n",
    "\n",
    "savetxt('/home/mallet/Desktop/VanillaVsARobust/Runtimes/timeGradResnetR.csv', l, delimiter=',')"
   ]
  },
  {
   "cell_type": "code",
   "execution_count": 32,
   "metadata": {},
   "outputs": [
    {
     "data": {
      "image/png": "[encoded data removed]",
      "text/plain": [
       "<Figure size 640x480 with 1 Axes>"
      ]
     },
     "metadata": {},
     "output_type": "display_data"
    },
    {
     "data": {
      "image/png": "[encoded data removed]",
      "text/plain": [
       "<Figure size 1000x700 with 1 Axes>"
      ]
     },
     "metadata": {},
     "output_type": "display_data"
    }
   ],
   "source": [
    "import matplotlib.pyplot as plt\n",
    "import numpy as np\n",
    " \n",
    "fig = plt.figure(figsize =(10, 7))\n",
    " \n",
    "# Creating plot\n",
    "plt.boxplot(l)\n",
    " \n",
    "# show plot\n",
    "plt.show()"
   ]
  },
  {
   "cell_type": "code",
   "execution_count": 1,
   "metadata": {},
   "outputs": [],
   "source": [
    "import sys\n",
    "import os\n",
    "sys.path.append('/home/mallet/Desktop/sam')\n",
    "os.chdir('/home/mallet/Desktop/sam')"
   ]
  },
  {
   "cell_type": "code",
   "execution_count": 2,
   "metadata": {},
   "outputs": [
    {
     "name": "stdout",
     "output_type": "stream",
     "text": [
      "My Attacker is False\n",
      "Loading the robust ResNet-50 architectre\n",
      "=> loading checkpoint './models/ResNet50_R.pt'\n",
      "=> loaded checkpoint './models/ResNet50_R.pt' (epoch 105)\n"
     ]
    }
   ],
   "source": [
    "from sam.utils import load_madry_model\n",
    "model = load_madry_model()\n"
   ]
  },
  {
   "cell_type": "code",
   "execution_count": 11,
   "metadata": {},
   "outputs": [
    {
     "name": "stdout",
     "output_type": "stream",
     "text": [
      "range(0, 2000)\n",
      "0\n",
      "1000\n",
      "1999\n"
     ]
    }
   ],
   "source": [
    "import torchray.benchmark\n",
    "import torchvision.transforms as transforms\n",
    "\n",
    "val_transforms = transforms.Compose([transforms.Resize(256),transforms.CenterCrop(224), transforms.ToTensor(),\n",
    "                                     transforms.Normalize(mean=[0.485, 0.456, 0.406],std=[0.229, 0.224, 0.225])])    \n",
    "vall = torchray.benchmark.datasets.ImageFolder('/home/mallet/Desktop/VanillaVsARobust/validationSample',transform = val_transforms)\n",
    "d = vall.selection\n",
    "print(d)\n",
    "\n",
    "for i in d:\n",
    "    if i==0:\n",
    "        print(i)\n",
    "    elif i==1000:\n",
    "        print(i)\n",
    "    elif i==1999:\n",
    "        print(i)\n",
    "    elif i==2000:\n",
    "        print(i)"
   ]
  },
  {
   "cell_type": "code",
   "execution_count": 15,
   "metadata": {},
   "outputs": [
    {
     "name": "stdout",
     "output_type": "stream",
     "text": [
      "<Element 'width' at 0x7f46f7cf4bf0>\n"
     ]
    }
   ],
   "source": [
    "import xml.etree.ElementTree as ET\n",
    "bbname = vall.get_image_url(0).split(\"/\")[-1].split(\".\")[0]\n",
    "\n",
    "tree = ET.parse('/home/mallet/Desktop/VanillaVsARobust/bb/'+ bbname + '.xml')\n",
    "root = tree.getroot()\n",
    "print(root[3][0])"
   ]
  },
  {
   "cell_type": "code",
   "execution_count": 19,
   "metadata": {},
   "outputs": [
    {
     "name": "stdout",
     "output_type": "stream",
     "text": [
      "500 375 47 187 481 362\n",
      "ILSVRC2012_val_00009396\n"
     ]
    }
   ],
   "source": [
    "import misc\n",
    "imwidth, imheight, xmin, ymin, xmax, ymax = misc.bbinfo(bbname)\n",
    "print(imwidth, imheight, xmin, ymin, xmax, ymax)\n",
    "print(bbname)"
   ]
  },
  {
   "cell_type": "code",
   "execution_count": null,
   "metadata": {},
   "outputs": [],
   "source": []
  }
 ],
 "metadata": {
  "kernelspec": {
   "display_name": "Python 3",
   "language": "python",
   "name": "python3"
  },
  "language_info": {
   "codemirror_mode": {
    "name": "ipython",
    "version": 3
   },
   "file_extension": ".py",
   "mimetype": "text/x-python",
   "name": "python",
   "nbconvert_exporter": "python",
   "pygments_lexer": "ipython3",
   "version": "3.7.6"
  }
 },
 "nbformat": 4,
 "nbformat_minor": 4
}
