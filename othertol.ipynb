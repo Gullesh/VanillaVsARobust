{
 "cells": [
  {
   "cell_type": "code",
   "execution_count": 3,
   "metadata": {},
   "outputs": [
    {
     "data": {
      "text/plain": [
       "'\\nz = saliency.cpu().numpy(), labele, bbname\\ntest = torchray.benchmark.pointing_game.PointingGame(1000, tolerance=tol)\\n\\nimwidth, imheight, xmin, ymin, xmax, ymax = miscel.bbinfo(bbname, bdta)\\nxminn, yminn, xmaxn, ymaxn = miscel.newloc(imwidth, imheight, xmin, ymin, xmax, ymax)\\n\\nxloc,yloc = miscel.findloc(saliency)\\nY = miscel.gtbb(xminn, yminn, xmaxn, ymaxn)\\npg = test.evaluate(Y, (yloc,xloc))\\nif pg==1:\\n    pghits+=1\\nelif pg==-1:\\n    pgmiss+=1\\n'"
      ]
     },
     "execution_count": 3,
     "metadata": {},
     "output_type": "execute_result"
    }
   ],
   "source": [
    "import numpy as np\n",
    "import torchvision.transforms as transforms\n",
    "from torchray.attribution.gradient import gradient\n",
    "import torchray.benchmark\n",
    "import xml.etree.ElementTree as ET\n",
    "import miscel\n",
    "import torchray.benchmark.pointing_game\n",
    "import miscel\n",
    "import time\n",
    "from numpy import savetxt\n",
    "import argparse\n",
    "import gc\n",
    "import torch\n",
    "\n",
    "'''data_options = ['rnddata', 'rsnt', 'ggl', 'alx']\n",
    "\n",
    "parser = argparse.ArgumentParser(description='CNN')\n",
    "\n",
    "parser.add_argument('--data', '-d', default='rnddata',  choices=data_options)\n",
    "parser.add_argument('--tol', type=int, default=1, help='tolerance for  pointing game')\n",
    "\n",
    "args = parser.parse_args()\n",
    "\n",
    "\n",
    "if args.data == 'rnddata':\n",
    "    dta = '/home/mallet/Desktop/Dataa/rnddata/valid'\n",
    "    bdta = '/home/mallet/Desktop/Dataa/rnddata/val/'\n",
    "elif args.data == 'rsnt':\n",
    "    dta = '/home/mallet/Desktop/Dataa/rsnt/valid'\n",
    "    bdta = '/home/mallet/Desktop/Dataa/rsnt/val/'\n",
    "elif args.data == 'ggl':\n",
    "    dta = '/home/mallet/Desktop/Dataa/ggl/valid'\n",
    "    bdta = '/home/mallet/Desktop/Dataa/ggl/val/'\n",
    "elif args.data == 'alx':\n",
    "    dta = '/home/mallet/Desktop/Dataa/alx/valid'\n",
    "    bdta = '/home/mallet/Desktop/Dataa/alx/val/'\n",
    "else:\n",
    "    print('Error: please choose a valid data')\n",
    " '''\n",
    "pghits = 0\n",
    "pgmiss = 0\n",
    "data = torch.load('/home/mallet/Desktop/Dataa/salmaps/risegooglenetrrnddatasal.pt')\n",
    "'''\n",
    "z = saliency.cpu().numpy(), labele, bbname\n",
    "test = torchray.benchmark.pointing_game.PointingGame(1000, tolerance=tol)\n",
    "\n",
    "imwidth, imheight, xmin, ymin, xmax, ymax = miscel.bbinfo(bbname, bdta)\n",
    "xminn, yminn, xmaxn, ymaxn = miscel.newloc(imwidth, imheight, xmin, ymin, xmax, ymax)\n",
    "\n",
    "xloc,yloc = miscel.findloc(saliency)\n",
    "Y = miscel.gtbb(xminn, yminn, xmaxn, ymaxn)\n",
    "pg = test.evaluate(Y, (yloc,xloc))\n",
    "if pg==1:\n",
    "    pghits+=1\n",
    "elif pg==-1:\n",
    "    pgmiss+=1\n",
    "'''"
   ]
  },
  {
   "cell_type": "code",
   "execution_count": 12,
   "metadata": {},
   "outputs": [
    {
     "data": {
      "text/plain": [
       "numpy.ndarray"
      ]
     },
     "execution_count": 12,
     "metadata": {},
     "output_type": "execute_result"
    }
   ],
   "source": [
    "type(data[0][0])"
   ]
  },
  {
   "cell_type": "code",
   "execution_count": 18,
   "metadata": {},
   "outputs": [],
   "source": [
    "test = torchray.benchmark.pointing_game.PointingGame(1000, tolerance=15)\n",
    "imwidth, imheight, xmin, ymin, xmax, ymax = miscel.bbinfo(data[0][2], '/home/mallet/Desktop/Dataa/rnddata/val/')\n",
    "xminn, yminn, xmaxn, ymaxn = miscel.newloc(imwidth, imheight, xmin, ymin, xmax, ymax)"
   ]
  },
  {
   "cell_type": "code",
   "execution_count": 19,
   "metadata": {},
   "outputs": [],
   "source": [
    "xloc,yloc = miscel.findloc(torch.from_numpy(data[0][0]))\n",
    "Y = miscel.gtbb(xminn, yminn, xmaxn, ymaxn)\n",
    "pg = test.evaluate(Y, (yloc,xloc))\n",
    "if pg==1:\n",
    "    pghits+=1\n",
    "elif pg==-1:\n",
    "    pgmiss+=1"
   ]
  },
  {
   "cell_type": "code",
   "execution_count": 20,
   "metadata": {},
   "outputs": [
    {
     "data": {
      "text/plain": [
       "1"
      ]
     },
     "execution_count": 20,
     "metadata": {},
     "output_type": "execute_result"
    }
   ],
   "source": [
    "pghits"
   ]
  },
  {
   "cell_type": "code",
   "execution_count": 21,
   "metadata": {},
   "outputs": [
    {
     "data": {
      "text/plain": [
       "1"
      ]
     },
     "execution_count": 21,
     "metadata": {},
     "output_type": "execute_result"
    }
   ],
   "source": [
    "pgmiss"
   ]
  },
  {
   "cell_type": "code",
   "execution_count": 22,
   "metadata": {},
   "outputs": [
    {
     "name": "stdout",
     "output_type": "stream",
     "text": [
      "1\n",
      "5\n",
      "10\n",
      "15\n",
      "20\n",
      "25\n"
     ]
    }
   ],
   "source": [
    "tol = [1, 5, 10, 15, 20, 25]\n",
    "for i in tol:\n",
    "    print(i)"
   ]
  },
  {
   "cell_type": "code",
   "execution_count": 26,
   "metadata": {},
   "outputs": [
    {
     "ename": "NameError",
     "evalue": "name 'numpy' is not defined",
     "output_type": "error",
     "traceback": [
      "\u001b[0;31m---------------------------------------------------------------------------\u001b[0m",
      "\u001b[0;31mNameError\u001b[0m                                 Traceback (most recent call last)",
      "\u001b[0;32m<ipython-input-26-a9b1342b9124>\u001b[0m in \u001b[0;36m<module>\u001b[0;34m\u001b[0m\n\u001b[0;32m----> 1\u001b[0;31m \u001b[0mtype\u001b[0m\u001b[0;34m(\u001b[0m\u001b[0mdata\u001b[0m\u001b[0;34m[\u001b[0m\u001b[0;36m0\u001b[0m\u001b[0;34m]\u001b[0m\u001b[0;34m[\u001b[0m\u001b[0;36m0\u001b[0m\u001b[0;34m]\u001b[0m\u001b[0;34m)\u001b[0m\u001b[0;34m==\u001b[0m\u001b[0mnumpy\u001b[0m\u001b[0;34m.\u001b[0m\u001b[0mndarray\u001b[0m\u001b[0;34m\u001b[0m\u001b[0;34m\u001b[0m\u001b[0m\n\u001b[0m",
      "\u001b[0;31mNameError\u001b[0m: name 'numpy' is not defined"
     ]
    }
   ],
   "source": [
    "type(data[0][0])==numpy.ndarray"
   ]
  },
  {
   "cell_type": "code",
   "execution_count": null,
   "metadata": {},
   "outputs": [],
   "source": []
  }
 ],
 "metadata": {
  "kernelspec": {
   "display_name": "Python 3",
   "language": "python",
   "name": "python3"
  },
  "language_info": {
   "codemirror_mode": {
    "name": "ipython",
    "version": 3
   },
   "file_extension": ".py",
   "mimetype": "text/x-python",
   "name": "python",
   "nbconvert_exporter": "python",
   "pygments_lexer": "ipython3",
   "version": "3.7.6"
  }
 },
 "nbformat": 4,
 "nbformat_minor": 2
}
